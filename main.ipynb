{
 "cells": [
  {
   "cell_type": "code",
   "execution_count": 6,
   "metadata": {},
   "outputs": [],
   "source": [
    "%matplotlib inline\n",
    "import pandas as pd\n",
    "import datetime\n",
    "import pandas_datareader.data as web\n",
    "import matplotlib.pyplot as plt\n",
    "import torch\n",
    "from torch.utils.data import Dataset, DataLoader, SubsetRandomSampler\n",
    "from torch.utils.data.dataloader import default_collate\n",
    "import numpy as np\n",
    "import torch.nn as nn\n",
    "import torch.nn.functional as F"
   ]
  },
  {
   "cell_type": "code",
   "execution_count": 10,
   "metadata": {},
   "outputs": [],
   "source": [
    "class IMUDataset(Dataset):\n",
    "    def __init__(self, csv_file, transform = None):\n",
    "        self.df = pd.read_csv(csv_file, header = 0, index_col = 0)\n",
    "        self.transform = transform\n",
    "        \n",
    "    def __len__(self):\n",
    "        return len(self.df)\n",
    "    \n",
    "    def __getitem__(self, idx):\n",
    "        y = self.df.iloc[idx : idx + 80, 3 : ].values\n",
    "        ind = np.argmax(np.sum(y, axis = 0))\n",
    "        label = np.zeros_like(self.df.iloc[0, 3 : ].values)\n",
    "        label = label.astype(float)\n",
    "        label[ind] = 1\n",
    "        x = self.df.iloc[idx : idx + 80, : 3].values\n",
    "        x = x.astype(float)\n",
    "        assert(x.shape == (80, 3))\n",
    "        assert(label.shape == (6, ))\n",
    "        return x, label\n",
    "        \n",
    "dataset = IMUDataset(csv_file = 'data_preparation/final_data.csv')"
   ]
  },
  {
   "cell_type": "code",
   "execution_count": 11,
   "metadata": {},
   "outputs": [
    {
     "name": "stdout",
     "output_type": "stream",
     "text": [
      "1020\n"
     ]
    }
   ],
   "source": [
    "def my_collate(batch):\n",
    "    \"Puts each data field into a tensor with outer dimension batch size\"\n",
    "    batch = list(filter(lambda x : x is not None, batch))\n",
    "    return default_collate(batch)\n",
    "\n",
    "indices = [(i * 60) for i in range(len(dataset) // 80)]\n",
    "dataloader = DataLoader(dataset, batch_size = 16, sampler = SubsetRandomSampler(indices), collate_fn = my_collate, drop_last = True)\n",
    "# for idx, (x, y) in enumerate(dataloader) :\n",
    "#     print(x.shape, y.shape)"
   ]
  },
  {
   "cell_type": "code",
   "execution_count": 18,
   "metadata": {},
   "outputs": [],
   "source": [
    "class ConvAutoEncoder(nn.Module):\n",
    "    def __init__(self, code_size):\n",
    "        super(ConvAutoEncoder, self).__init__()\n",
    "        self.code_size = code_size\n",
    "        # defining layers\n",
    "        # input size - batch_size x 3 x 100\n",
    "        conv1 = nn.Conv1d(3, 10, 3)\n",
    "        # after conv1 - batch_size x 10 x 98\n",
    "        conv2 = nn.Conv1d(10, 20, 1)\n",
    "        # after conv2 - batch_size x 10 x 98\n",
    "        enc_fc = nn.Linear(10 * 98, self.code_size)\n",
    "        \n",
    "        dec_fc = nn.Linear(self.code_size, 10 * 98)\n",
    "        deconv2 = nn.ConvTranspose1d(20, 10, 1)\n",
    "        deconv1 = nn.ConvTranspose1d(10, 3, 3)\n",
    "        \n",
    "    def forward(self, signal):\n",
    "        code = self.encode(signal)\n",
    "        out = self.decode(code)\n",
    "        return out, code\n",
    "    \n",
    "    def encode(signal):\n",
    "        signal = signal.view(16, 3, 80)\n",
    "        code = F.sigmoid(self.conv1(signal))\n",
    "        code = F.sigmoid(self.conv2(code))\n",
    "        code = F.sigmoid(self.enc_fc(code))\n",
    "        return code\n",
    "    \n",
    "    def decode(code):\n",
    "        out = F.sigmoid(self.dec_fc(code))\n",
    "        out = F.sigmoid(self.deconv2(out))\n",
    "        out = F.sigmoid(self.deconv1(out))\n",
    "        return out\n",
    "    \n",
    "class ConvNet(nn.Module):\n",
    "    def __init__(self):\n",
    "        super(ConvNet, self).__init__()\n",
    "        # defining layers\n",
    "        self.conv1 = nn.Conv1d(3, 5, 3)\n",
    "        self.conv2 = nn.Conv1d(5, 10, 5)\n",
    "        self.conv3 = nn.Conv1d(10, 10, 5)\n",
    "        \n",
    "        nn.init.xavier_uniform_(self.conv1.weight, gain = nn.init.calculate_gain('relu'))\n",
    "        nn.init.xavier_uniform_(self.conv2.weight, gain = nn.init.calculate_gain('relu'))\n",
    "        nn.init.xavier_uniform_(self.conv3.weight, gain = nn.init.calculate_gain('sigmoid'))\n",
    "        \n",
    "    def forward(self, signal):\n",
    "        signal = signal.view(16, 3, 80)\n",
    "        out = F.relu(self.conv1(signal))\n",
    "        out = F.relu(self.conv2(out))\n",
    "        out = F.sigmoid(self.conv3(out))\n",
    "        return out\n",
    "    \n",
    "Net = ConvNet()"
   ]
  },
  {
   "cell_type": "code",
   "execution_count": 14,
   "metadata": {},
   "outputs": [
    {
     "name": "stdout",
     "output_type": "stream",
     "text": [
      "78.0\n",
      "74.0\n",
      "70.0\n"
     ]
    }
   ],
   "source": [
    "def output_size(n, f, p = 0, s = 1):\n",
    "    return (((n + 2 * p - f) / s) + 1)\n",
    "\n",
    "print(output_size(80, 3))\n",
    "print(output_size(78, 5))\n",
    "print(output_size(74, 5))"
   ]
  },
  {
   "cell_type": "code",
   "execution_count": null,
   "metadata": {},
   "outputs": [],
   "source": []
  }
 ],
 "metadata": {
  "kernelspec": {
   "display_name": "Python 3",
   "language": "python",
   "name": "python3"
  },
  "language_info": {
   "codemirror_mode": {
    "name": "ipython",
    "version": 3
   },
   "file_extension": ".py",
   "mimetype": "text/x-python",
   "name": "python",
   "nbconvert_exporter": "python",
   "pygments_lexer": "ipython3",
   "version": "3.7.1"
  }
 },
 "nbformat": 4,
 "nbformat_minor": 2
}
