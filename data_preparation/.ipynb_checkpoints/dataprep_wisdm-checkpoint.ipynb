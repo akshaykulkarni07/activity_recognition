{
 "cells": [
  {
   "cell_type": "code",
   "execution_count": 17,
   "metadata": {},
   "outputs": [],
   "source": [
    "%matplotlib inline\n",
    "import pandas as pd\n",
    "import datetime\n",
    "import pandas_datareader.data as web\n",
    "import matplotlib.pyplot as plt\n",
    "import torch\n",
    "from torch.utils.data import Dataset, DataLoader"
   ]
  },
  {
   "cell_type": "code",
   "execution_count": 10,
   "metadata": {},
   "outputs": [
    {
     "name": "stderr",
     "output_type": "stream",
     "text": [
      "/home/ivlabs/anaconda3/envs/akshay/lib/python3.7/site-packages/numpy/lib/arraysetops.py:522: FutureWarning: elementwise comparison failed; returning scalar instead, but in the future will perform elementwise comparison\n",
      "  mask |= (ar1 == a)\n"
     ]
    },
    {
     "name": "stdout",
     "output_type": "stream",
     "text": [
      "                  class     x_acc      y_acc        z_acc\n",
      "time                                                     \n",
      "49105962326000  Jogging -0.694638  12.680544   0.50395286\n",
      "49106062271000  Jogging  5.012288  11.264028   0.95342433\n",
      "49106112167000  Jogging  4.903325  10.882658  -0.08172209\n",
      "49106222305000  Jogging -0.612916  18.496431    3.0237172\n",
      "49106332290000  Jogging -1.184970  12.108489     7.205164\n"
     ]
    },
    {
     "data": {
      "image/png": "[encoded data removed]",
      "text/plain": [
       "<Figure size 432x288 with 1 Axes>"
      ]
     },
     "metadata": {
      "needs_background": "light"
     },
     "output_type": "display_data"
    }
   ],
   "source": [
    "df = pd.read_csv('/home/ivlabs/users/akshay/WISDM_ar_v1.1/WISDM_ar_v1.1_raw.txt', index_col = 2, names = ['user', 'class', 'time', 'x_acc', 'y_acc', 'z_acc'])\n",
    "df = df.drop('user', axis = 1)\n",
    "df['z_acc'] = df['z_acc'].str.rstrip(';')\n",
    "print(df.head())\n",
    "plt.plot(df['x_acc'][ : 50])\n",
    "df.to_csv('cleaned_data.csv')"
   ]
  },
  {
   "cell_type": "code",
   "execution_count": 42,
   "metadata": {},
   "outputs": [
    {
     "name": "stderr",
     "output_type": "stream",
     "text": [
      "/home/ivlabs/anaconda3/envs/akshay/lib/python3.7/site-packages/IPython/core/interactiveshell.py:3020: DtypeWarning: Columns (4) have mixed types. Specify dtype option on import or set low_memory=False.\n",
      "  interactivity=interactivity, compiler=compiler, result=result)\n",
      "/home/ivlabs/anaconda3/envs/akshay/lib/python3.7/site-packages/numpy/lib/arraysetops.py:522: FutureWarning: elementwise comparison failed; returning scalar instead, but in the future will perform elementwise comparison\n",
      "  mask |= (ar1 == a)\n"
     ]
    },
    {
     "name": "stdout",
     "output_type": "stream",
     "text": [
      "                   x_acc      y_acc      z_acc\n",
      "time                                          \n",
      "49105962326000 -0.694638  12.680544   0.503953\n",
      "49106062271000  5.012288  11.264028   0.953424\n",
      "49106112167000  4.903325  10.882658 -0.0817221\n",
      "49106222305000 -0.612916  18.496431    3.02372\n",
      "49106332290000 -1.184970  12.108489    7.20516\n",
      "                label_Downstairs  label_Jogging  label_Sitting  \\\n",
      "time                                                             \n",
      "49105962326000                 0              1              0   \n",
      "49106062271000                 0              1              0   \n",
      "49106112167000                 0              1              0   \n",
      "49106222305000                 0              1              0   \n",
      "49106332290000                 0              1              0   \n",
      "\n",
      "                label_Standing  label_Upstairs  label_Walking  \n",
      "time                                                           \n",
      "49105962326000               0               0              0  \n",
      "49106062271000               0               0              0  \n",
      "49106112167000               0               0              0  \n",
      "49106222305000               0               0              0  \n",
      "49106332290000               0               0              0  \n",
      "             time     x_acc      y_acc      z_acc  label_Downstairs  \\\n",
      "0  49105962326000 -0.694638  12.680544   0.503953                 0   \n",
      "1  49106062271000  5.012288  11.264028   0.953424                 0   \n",
      "2  49106112167000  4.903325  10.882658 -0.0817221                 0   \n",
      "3  49106222305000 -0.612916  18.496431    3.02372                 0   \n",
      "4  49106332290000 -1.184970  12.108489    7.20516                 0   \n",
      "\n",
      "   label_Jogging  label_Sitting  label_Standing  label_Upstairs  label_Walking  \n",
      "0              1              0               0               0              0  \n",
      "1              1              0               0               0              0  \n",
      "2              1              0               0               0              0  \n",
      "3              1              0               0               0              0  \n",
      "4              1              0               0               0              0  \n"
     ]
    }
   ],
   "source": [
    "df = pd.read_csv('/home/ivlabs/users/akshay/testing/cleaned_data.csv', header = 0, index_col = 0)\n",
    "labels = pd.DataFrame(pd.get_dummies(df['class'], prefix='label'))\n",
    "df = df.drop('class', axis = 1)\n",
    "print(df.head())\n",
    "print(labels.head())\n",
    "dataframe = pd.concat([df, labels], axis = 1).drop_duplicates().reset_index(drop = False)\n",
    "print(dataframe.head())\n",
    "dataframe.to_csv('final_data.csv', index = None)"
   ]
  },
  {
   "cell_type": "code",
   "execution_count": 46,
   "metadata": {},
   "outputs": [
    {
     "name": "stdout",
     "output_type": "stream",
     "text": [
      "                   x_acc      y_acc      z_acc  label_Downstairs  \\\n",
      "time                                                               \n",
      "49105962326000 -0.694638  12.680544   0.503953                 0   \n",
      "49106062271000  5.012288  11.264028   0.953424                 0   \n",
      "49106112167000  4.903325  10.882658 -0.0817221                 0   \n",
      "49106222305000 -0.612916  18.496431    3.02372                 0   \n",
      "49106332290000 -1.184970  12.108489    7.20516                 0   \n",
      "\n",
      "                label_Jogging  label_Sitting  label_Standing  label_Upstairs  \\\n",
      "time                                                                           \n",
      "49105962326000              1              0               0               0   \n",
      "49106062271000              1              0               0               0   \n",
      "49106112167000              1              0               0               0   \n",
      "49106222305000              1              0               0               0   \n",
      "49106332290000              1              0               0               0   \n",
      "\n",
      "                label_Walking  \n",
      "time                           \n",
      "49105962326000              0  \n",
      "49106062271000              0  \n",
      "49106112167000              0  \n",
      "49106222305000              0  \n",
      "49106332290000              0  \n",
      "(980260, 9)\n"
     ]
    }
   ],
   "source": [
    "final = pd.read_csv('final_data.csv', header = 0, index_col = 0)\n",
    "print(final.head())\n",
    "print(final.shape)"
   ]
  },
  {
   "cell_type": "code",
   "execution_count": 15,
   "metadata": {},
   "outputs": [
    {
     "name": "stdout",
     "output_type": "stream",
     "text": [
      "time\n",
      "49105962326000    Jogging\n",
      "49106062271000    Jogging\n",
      "49106112167000    Jogging\n",
      "49106222305000    Jogging\n",
      "49106332290000    Jogging\n",
      "49106442306000    Jogging\n",
      "49106542312000    Jogging\n",
      "49106652389000    Jogging\n",
      "49106762313000    Jogging\n",
      "49106872299000    Jogging\n",
      "49106982315000    Jogging\n",
      "49107092330000    Jogging\n",
      "49107202316000    Jogging\n",
      "49107312332000    Jogging\n",
      "49107422348000    Jogging\n",
      "49107522293000    Jogging\n",
      "49107632339000    Jogging\n",
      "49107742355000    Jogging\n",
      "49107852340000    Jogging\n",
      "49107962326000    Jogging\n",
      "49108062271000    Jogging\n",
      "49108172348000    Jogging\n",
      "49108272262000    Jogging\n",
      "49108382370000    Jogging\n",
      "49108492294000    Jogging\n",
      "49108602371000    Jogging\n",
      "49108702285000    Jogging\n",
      "49108812332000    Jogging\n",
      "49108922378000    Jogging\n",
      "49109022293000    Jogging\n",
      "49109132308000    Jogging\n",
      "49109242355000    Jogging\n",
      "49109352310000    Jogging\n",
      "49109462295000    Jogging\n",
      "49109562271000    Jogging\n",
      "49109672348000    Jogging\n",
      "49109782333000    Jogging\n",
      "49109892349000    Jogging\n",
      "49109992263000    Jogging\n",
      "49110102371000    Jogging\n",
      "49110212326000    Jogging\n",
      "49110263595000    Jogging\n",
      "49110372299000    Jogging\n",
      "49110482345000    Jogging\n",
      "49110582290000    Jogging\n",
      "49110692306000    Jogging\n",
      "49110802291000    Jogging\n",
      "49110912307000    Jogging\n",
      "49111012222000    Jogging\n",
      "49111112289000    Jogging\n",
      "Name: class, dtype: object\n"
     ]
    }
   ],
   "source": [
    "class IMUDataset(Dataset):\n",
    "    def __init__(self, csv_file, transform = None):\n",
    "        self.df = pd.read_csv(csv_file)\n",
    "        self.transform = transform\n",
    "        \n",
    "    def __len__(self):\n",
    "        return len(self.df)\n",
    "    \n",
    "    def __getitem__(self, idx):\n",
    "        y = self.df.iloc[idx, 3 : ].values()\n",
    "        x = self.df.iloc[idx, : 2].values()\n",
    "        return x, y"
   ]
  },
  {
   "cell_type": "code",
   "execution_count": null,
   "metadata": {},
   "outputs": [],
   "source": []
  }
 ],
 "metadata": {
  "kernelspec": {
   "display_name": "Python 3",
   "language": "python",
   "name": "python3"
  },
  "language_info": {
   "codemirror_mode": {
    "name": "ipython",
    "version": 3
   },
   "file_extension": ".py",
   "mimetype": "text/x-python",
   "name": "python",
   "nbconvert_exporter": "python",
   "pygments_lexer": "ipython3",
   "version": "3.7.1"
  }
 },
 "nbformat": 4,
 "nbformat_minor": 2
}
